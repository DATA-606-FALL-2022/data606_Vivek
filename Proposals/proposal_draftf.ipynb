{
 "cells": [
  {
   "cell_type": "markdown",
   "id": "33f31d76",
   "metadata": {},
   "source": [
    "# Draft Proposal for DATA 606:"
   ]
  },
  {
   "cell_type": "markdown",
   "id": "afcdfbbe",
   "metadata": {},
   "source": [
    "_______________________________________________________________________________"
   ]
  },
  {
   "cell_type": "markdown",
   "id": "16b6ffb1",
   "metadata": {},
   "source": [
    "#### Name: Vivek Pandey\n",
    "#### Date: 10/10/2022"
   ]
  },
  {
   "cell_type": "markdown",
   "id": "a2e03382",
   "metadata": {},
   "source": [
    "# Project Title - \"CAR CRASHES SEVERITY AND REASON PREDICTION\""
   ]
  },
  {
   "cell_type": "markdown",
   "id": "418c4ef1",
   "metadata": {},
   "source": [
    "___________________________________________________________________________"
   ]
  },
  {
   "cell_type": "markdown",
   "id": "16e6b997",
   "metadata": {},
   "source": [
    "## OVERVIEW:"
   ]
  },
  {
   "cell_type": "markdown",
   "id": "f53bd783",
   "metadata": {},
   "source": [
    "Crash data shows information about each traffic crash on city streets within the City of Chicago limits and under the jurisdiction of Chicago Police Department (CPD). Data are shown as is from the electronic crash reporting system (E-Crash) at CPD, excluding any personally identifiable information. Records are added to the data portal when a crash report is finalized or when amendments are made to an existing report in E-Crash. Data from E-Crash are available for some police districts in 2015, but citywide data are not available until September 2017. About half of all crash reports, mostly minor crashes, are self-reported at the police district by the driver(s) involved and the other half are recorded at the scene by the police officer responding to the crash.\n"
   ]
  },
  {
   "cell_type": "markdown",
   "id": "03f38965",
   "metadata": {},
   "source": [
    "## ISSUE OR THE REASON FOR CHOOSING THIS TOPIC:"
   ]
  },
  {
   "cell_type": "markdown",
   "id": "3456c671",
   "metadata": {},
   "source": [
    "Many of the crash parameters, including street condition data, weather condition, and posted speed limits, are recorded by the reporting officer based on best available information at the time, but many of these may disagree with posted information or other assessments on road conditions. If any new or updated information on a crash is received, the reporting officer may amend the crash report at a later time. A traffic crash within the city limits for which CPD is not the responding police agency, typically crashes on interstate highways, freeway ramps, and on local roads along the City boundary, are excluded from this dataset.\n",
    "1. It will help in improving the road conditions for that area.\n",
    "2. Prediction of accidents. \n",
    "3. Reason for most of the accidents and take precautions.\n",
    "4. Predict the damage cost by accidents in particular area and conditions.\n"
   ]
  },
  {
   "cell_type": "markdown",
   "id": "ecfb03f5",
   "metadata": {},
   "source": [
    "## DATA SOURCE:\n",
    "\n",
    "Using the data from \"Chicago Car Crash Dataset\" which as more than 569700 records. The dataset as details of date and time of accident occurred, location and cause of accident and soon.\n",
    "\n",
    "Link: https://data.cityofchicago.org/Transportation/Traffic-Crashes-Crashes/85ca-t3if\n",
    "\n"
   ]
  },
  {
   "cell_type": "markdown",
   "id": "41d4515e",
   "metadata": {},
   "source": [
    "Following columns in the dataset are:\n",
    "- CRASH_RECORD_ID : A unique ID can be used to link to the same crash in the Vehicles and people datasets.\n",
    "- RD_NO: Chicago Police Department report number.\n",
    "- CRASH_DATE_EST_I : Crash date estimated by desk officer or reporting party.\n",
    "- CRASH_DATE : Date and time of crash.\n",
    "- POSTED_SPEED_LIMIT:Posted speed limit.\n",
    "- TRAFFIC_CONTROL_DEVICE:Traffic control device present at crash location.\n",
    "- DEVICE_CONDITION : Condition of traffic control device.\n",
    "- WEATHER_CONDITION : Weather condition at time of crash.\n",
    "- LIGHTING_CONDITION: Light condition at time of crasH.\n",
    "- FIRST_CRASH_TYPE : Type of first collision in crash.\n",
    "- TRAFFICWAY_TYPE : Trafficway type.\n",
    "- LANE_CNT : Total number of through lanes in either direction, excluding turn lanes.\n",
    "- ALIGNMENT : Street alignment at crash location.\n",
    "- ROADWAY_SURFACE_COND:Road surface condition.\n",
    "- ROAD_DEFECT : Road defects.\n",
    "- REPORT_TYPE : Administrative report type (at scene, at desk, amended).\n",
    "- CRASH_TYPE : A general severity classification for the crash. Can be either Injury and/or Tow\n",
    "- Due to Crash or No Injury / Drive Away.\n",
    "- INTERSECTION_RELATED_I:A field observation by the police officer whether an intersection played a role in the crash. Does not represent whether or not the crash occurred within the intersection.\n",
    "- NOT_RIGHT_OF_WAY_I :Whether the crash begun or first contact was made outside of the public right-of-way.\n",
    "- HIT_AND_RUN_I : Crash did/did not involve a driver who caused the crash and fled the\n",
    "scene without exchanging information and/or rendering aid.\n",
    "- DAMAGE : A field observation of estimated damage.\n",
    "- DATE_POLICE_NOTIFIED: Calendar date on which police were notified of the crash.\n",
    "- PRIM_CONTRIBUTORY_CAUSE:The factor which was most significant in causing the crash.\n",
    "- SEC_CONTRIBUTORY_CAUSE :The factor which was second most significant in causing the crash.\n",
    "- STREET_NO :Street address number of crash location.\n",
    "- STREET_DIRECTION :Street address direction (N,E,S,W) of crash location.\n",
    "- STREET_NAME :Street address name of crash location.\n",
    "- BEAT_OF_OCCURRENCE :Chicago Police Department Beat ID.\n",
    "- PHOTOS_TAKEN_I :Whether the Chicago Police Department took photos at the location of the crash.\n",
    "- STATEMENTS_TAKEN_I :Whether statements were taken from unit(s) involved in crash.\n",
    "- DOORING_I :Whether crash involved a motor vehicle occupant opening a door into the travel path\n",
    "of a bicyclist, causing a crash.\n",
    "- WORK_ZONE_I :Whether the crash occurred in an active work zone.\n",
    "- WORK_ZONE_TYPE :The type of work zone.\n",
    "- WORKERS_PRESENT_I :Whether construction workers were present in an active work zone at crash location\n",
    "- NUM_UNITS :Number of units involved in the crash.\n",
    "- MOST_SEVERE_INJURY :Most severe injury sustained by any person involved in the crash.\n",
    "- INJURIES_TOTAL :Total persons sustaining fatal, incapacitating, non-incapacitating, and possible injuries.\n",
    "- INJURIES_FATAL :Total persons sustaining fatal injuries in the crash.\n",
    "- INJURIES_INCAPACITATING:Total persons sustaining incapacitating/serious injuries in the crash. - INJURIES_NON_INCAPACITATING:Total persons sustaining non-incapacitating injuries in the crash. -INJURIES_REPORTED_NOT_EVIDENT:Total persons sustaining possible injuries in the crash.\n",
    "- INJURIES_NO_INDICATION:Total persons sustaining no injuries in the crash.\n",
    "- INJURIES_UNKNOWN :Total persons for whom injuries sustained, if any, are unknown.\n",
    "\n",
    "- CRASH_HOUR :The hour of the day component of CRASH_DATE.\n",
    "\n",
    "- CRASH_DAY_OF_WEEK :The day of the week component of CRASH_DATE. Sunday=1\n",
    "- CRASH_MONTH :The month component of CRASH_DATE.\n",
    "- LATITUDE :The latitude of the crash location.\n",
    "- LONGITUDE :The longitude of the crash location.\n",
    "- LOCATION :The crash location."
   ]
  },
  {
   "cell_type": "markdown",
   "id": "1f29833e",
   "metadata": {},
   "source": [
    "## STEPS PERFORMED IN THIS ANALYSIS\n",
    "- Data inspection and checking the missing values.\n",
    "- Splitting data into train and test data.\n",
    "- Creation of pipeline.\n",
    "- Checking the performance of Logistic regression, decision tree, and Random Forest.\n",
    "- Checking whether the performance has been improved or not.\n",
    "- Coming to a conclusion for the best performance.\n",
    "- we'll focus on preprocessing our data.\n"
   ]
  },
  {
   "cell_type": "markdown",
   "id": "912401cb",
   "metadata": {},
   "source": [
    "Important steps such as identifying and handling null values in the columns. Converted object type feature to int or float type using pandas functions. Merged and capped the values of columns to reduce the outliers. Dropped the column which are inconclusive. Transformed categorical variables by using one-hot encoding or \"dummy variables\"."
   ]
  },
  {
   "cell_type": "markdown",
   "id": "5b2b1682",
   "metadata": {},
   "source": [
    "## Setting Up Our Data\n",
    "The modules that are imported to process the data and build the models are\n",
    "\n",
    "- pandas for data analysis\n",
    "- numpy for scientific computation\n",
    "- matplotlib for basic plotting\n",
    "-  seaborn for advanced plotting\n",
    "- sci-kit learn for modeling & evaluations\n",
    "\n",
    "## Scrub the Data\n",
    "In this stage, we'll focus on preprocessing our data.\n",
    "\n",
    "- Important steps such as identifying and handling null values in the columns.\n",
    "- Converted object type feature to int or float type using pandas functions.\n",
    "- Merged and capped the values of columns to reduce the outliers.\n",
    "- Dropped the column which are inconclusive.\n",
    "- Transformed categorical variables by using one-hot encoding or \"dummy variables\"."
   ]
  },
  {
   "cell_type": "markdown",
   "id": "afb70388",
   "metadata": {},
   "source": [
    "## MODELS TO USE:"
   ]
  },
  {
   "cell_type": "markdown",
   "id": "dd30c2de",
   "metadata": {},
   "source": [
    "#### Logistic Regression\n",
    "Logistic Regression is used when the dependent variable is binary in nature. It is a powerful statistical tool which can be used to predict the effect of the factors that are related to the crashes.\n",
    "\n",
    "#### Decision Tree Classifier\n",
    "\n",
    "#### Random Forest Classifier\n",
    "Random Forest Trees are based on a number of prediction trees that are\n",
    "less tolerant to noise andutilize random selection of features in splitting the trees.\n",
    "\n"
   ]
  },
  {
   "cell_type": "markdown",
   "id": "ed223e39",
   "metadata": {},
   "source": [
    "## Outcomes planning to achieve:"
   ]
  },
  {
   "cell_type": "markdown",
   "id": "db817da9",
   "metadata": {},
   "source": [
    "- In the narrow sense, the goal of forecasting is to produce better forecasts. \n",
    "\n",
    "- Final models to show that certain columns have more of an effect on the severity of a car accident than others.\n",
    "\n",
    "- To demonstrate how different classification models work and how we can compare models using the roc_auc score metric.\n",
    "\n",
    "- Planning to use Random Forest classifier due to its high score among the all models.\n"
   ]
  },
  {
   "cell_type": "code",
   "execution_count": null,
   "id": "7cbf0066",
   "metadata": {},
   "outputs": [],
   "source": []
  }
 ],
 "metadata": {
  "kernelspec": {
   "display_name": "Python 3",
   "language": "python",
   "name": "python3"
  },
  "language_info": {
   "codemirror_mode": {
    "name": "ipython",
    "version": 3
   },
   "file_extension": ".py",
   "mimetype": "text/x-python",
   "name": "python",
   "nbconvert_exporter": "python",
   "pygments_lexer": "ipython3",
   "version": "3.8.8"
  }
 },
 "nbformat": 4,
 "nbformat_minor": 5
}
